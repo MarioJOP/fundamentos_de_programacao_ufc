{
  "nbformat": 4,
  "nbformat_minor": 0,
  "metadata": {
    "colab": {
      "provenance": [],
      "authorship_tag": "ABX9TyP9oE5MQ8Co7GdD7o44/ULb",
      "include_colab_link": true
    },
    "kernelspec": {
      "name": "python3",
      "display_name": "Python 3"
    },
    "language_info": {
      "name": "python"
    }
  },
  "cells": [
    {
      "cell_type": "markdown",
      "metadata": {
        "id": "view-in-github",
        "colab_type": "text"
      },
      "source": [
        "<a href=\"https://colab.research.google.com/github/MarioJOP/fundamentos_de_programacao_ufc/blob/main/Aula003.ipynb\" target=\"_parent\"><img src=\"https://colab.research.google.com/assets/colab-badge.svg\" alt=\"Open In Colab\"/></a>"
      ]
    },
    {
      "cell_type": "code",
      "source": [
        "#Lista de areas\n",
        "areas = [\"hallway\", 11.25, \"kitchen\", 18.0, \"living room\", 20.0, \"bedroom\", 10.75, \"bathroom\", 9.50]"
      ],
      "metadata": {
        "id": "_pzGbTCmtw9I"
      },
      "execution_count": null,
      "outputs": []
    },
    {
      "cell_type": "code",
      "execution_count": null,
      "metadata": {
        "colab": {
          "base_uri": "https://localhost:8080/"
        },
        "id": "W5E6JioZttEg",
        "outputId": "0befccdc-b45e-4efe-b527-27a979e2f52e"
      },
      "outputs": [
        {
          "output_type": "execute_result",
          "data": {
            "text/plain": [
              "38.0"
            ]
          },
          "metadata": {},
          "execution_count": 18
        }
      ],
      "source": [
        "#Soma do valor de kitchen e living room:\n",
        "eat_sleep_area = areas[3] + areas[5]\n",
        "\n",
        "#Print da variável\n",
        "eat_sleep_area"
      ]
    },
    {
      "cell_type": "code",
      "source": [
        "#Seis primeiros elementos\n",
        "downstairs = areas[:6]\n",
        "\n",
        "#Print de downstairs\n",
        "downstairs"
      ],
      "metadata": {
        "colab": {
          "base_uri": "https://localhost:8080/"
        },
        "id": "kZiP-jwntywn",
        "outputId": "2db36d2f-7e06-4977-bbb6-64e8444a243f"
      },
      "execution_count": null,
      "outputs": [
        {
          "output_type": "execute_result",
          "data": {
            "text/plain": [
              "['hallway', 11.25, 'kitchen', 18.0, 'living room', 20.0]"
            ]
          },
          "metadata": {},
          "execution_count": 21
        }
      ]
    },
    {
      "cell_type": "code",
      "source": [
        "#Quatro ultimos elementos\n",
        "upstairs = areas[-4:]\n",
        "\n",
        "#Print de downstairs\n",
        "upstairs"
      ],
      "metadata": {
        "colab": {
          "base_uri": "https://localhost:8080/"
        },
        "id": "LWerc9gnwUAb",
        "outputId": "ea724be0-31e4-40f0-9b77-12bde1f8a7a1"
      },
      "execution_count": null,
      "outputs": [
        {
          "output_type": "execute_result",
          "data": {
            "text/plain": [
              "['bedroom', 10.75, 'bathroom', 9.5]"
            ]
          },
          "metadata": {},
          "execution_count": 22
        }
      ]
    },
    {
      "cell_type": "code",
      "source": [
        "x = [['a', 'b', 'c'],\n",
        "     ['d', 'e', 'f'],\n",
        "     ['g', 'h', 'i']]\n",
        "print(x[2][0])\n",
        "print(x[2][:2])"
      ],
      "metadata": {
        "colab": {
          "base_uri": "https://localhost:8080/"
        },
        "id": "2wnV8WCdwoEL",
        "outputId": "0675aaaf-f3e5-4186-f18a-59764f5f6a20"
      },
      "execution_count": null,
      "outputs": [
        {
          "output_type": "stream",
          "name": "stdout",
          "text": [
            "g\n",
            "['g', 'h']\n"
          ]
        }
      ]
    },
    {
      "cell_type": "code",
      "source": [
        "hall = 14.25\n",
        "kit = 18.8\n",
        "liv = 20.0\n",
        "bed = 10.75\n",
        "bath = 9.50\n",
        "#Resgatando a variavel house\n",
        "house = [[\"hallway\", hall],\n",
        "         [\"kitchen\", kit],\n",
        "         [\"living room\", liv],\n",
        "         [\"bedroom\", bed],\n",
        "         [\"bathroom\", bath]]\n",
        "house"
      ],
      "metadata": {
        "colab": {
          "base_uri": "https://localhost:8080/"
        },
        "id": "pNBfNILnyD2A",
        "outputId": "c4ad7a1d-66d4-4d03-d852-9941f59fe876"
      },
      "execution_count": null,
      "outputs": [
        {
          "output_type": "execute_result",
          "data": {
            "text/plain": [
              "[['hallway', 14.25],\n",
              " ['kitchen', 18.8],\n",
              " ['living room', 20.0],\n",
              " ['bedroom', 10.75],\n",
              " ['bathroom', 9.5]]"
            ]
          },
          "metadata": {},
          "execution_count": 30
        }
      ]
    },
    {
      "cell_type": "code",
      "source": [
        "#Segundo elemento da ultima lista\n",
        "house[-1][1]"
      ],
      "metadata": {
        "colab": {
          "base_uri": "https://localhost:8080/"
        },
        "id": "LdYCV4lKyV7q",
        "outputId": "bf41fd9e-8e91-47fe-fbfe-7c4b0ba3c2d9"
      },
      "execution_count": null,
      "outputs": [
        {
          "output_type": "execute_result",
          "data": {
            "text/plain": [
              "9.5"
            ]
          },
          "metadata": {},
          "execution_count": 31
        }
      ]
    },
    {
      "cell_type": "code",
      "source": [
        "#Resgatando a variavel fam\n",
        "fam = ['Mario', 1.00, 'Mari', 1.58, 'Jose', 1.65, 'Mauri', 1.50]\n",
        "print(fam)\n",
        "#Alterando o valor do sexto elemento\n",
        "fam[7] = 1.86\n",
        "#fam[-1] = 1.86\n",
        "print(fam)\n",
        "\n",
        "#Alterando o valor dos 2 primeiros elementos\n",
        "fam[0:2] = ['lisa', 1.74]\n",
        "print(fam)\n",
        "\n",
        "#Alterando o valor do terceiro e quarto elemento\n",
        "fam[2:4] = ['Joao', 1.94]\n",
        "print(fam)"
      ],
      "metadata": {
        "colab": {
          "base_uri": "https://localhost:8080/"
        },
        "id": "tRfluJkV0rIK",
        "outputId": "38635981-9801-4cdd-a045-eadd857fef65"
      },
      "execution_count": null,
      "outputs": [
        {
          "output_type": "stream",
          "name": "stdout",
          "text": [
            "['Mario', 1.0, 'Mari', 1.58, 'Jose', 1.65, 'Mauri', 1.5]\n",
            "['Mario', 1.0, 'Mari', 1.58, 'Jose', 1.65, 'Mauri', 1.86]\n",
            "['lisa', 1.74, 'Mari', 1.58, 'Jose', 1.65, 'Mauri', 1.86]\n",
            "['lisa', 1.74, 'Joao', 1.94, 'Jose', 1.65, 'Mauri', 1.86]\n"
          ]
        }
      ]
    },
    {
      "cell_type": "code",
      "source": [
        "#Concatenando listas\n",
        "fam + ['me', 1.66]"
      ],
      "metadata": {
        "colab": {
          "base_uri": "https://localhost:8080/"
        },
        "id": "mJ3XM9k_1Aax",
        "outputId": "00ebce5c-b31a-4dda-bb01-e932630209d1"
      },
      "execution_count": null,
      "outputs": [
        {
          "output_type": "execute_result",
          "data": {
            "text/plain": [
              "['lisa', 1.74, 'Joao', 1.94, 'Jose', 1.65, 'Mauri', 1.86, 'me', 1.66]"
            ]
          },
          "metadata": {},
          "execution_count": 65
        }
      ]
    },
    {
      "cell_type": "code",
      "source": [
        "#Adicionando a concatenação em uma variável\n",
        "fam_ext = fam + ['me', 1.66]\n",
        "fam_ext"
      ],
      "metadata": {
        "colab": {
          "base_uri": "https://localhost:8080/"
        },
        "id": "-KQFRDwe2lcc",
        "outputId": "2b7f6e64-c970-4e13-9293-831654b92cf2"
      },
      "execution_count": null,
      "outputs": [
        {
          "output_type": "execute_result",
          "data": {
            "text/plain": [
              "['lisa', 1.74, 'Joao', 1.94, 'Jose', 1.65, 'Mauri', 1.86, 'me', 1.66]"
            ]
          },
          "metadata": {},
          "execution_count": 66
        }
      ]
    },
    {
      "cell_type": "code",
      "source": [
        "#Deletando o terceiro elemento da lista\n",
        "print(fam)\n",
        "del fam[2]\n",
        "\n",
        "print(fam)"
      ],
      "metadata": {
        "colab": {
          "base_uri": "https://localhost:8080/"
        },
        "id": "JMK863Nz2q8J",
        "outputId": "a5183db4-7251-4d23-8793-c6136bba32f9"
      },
      "execution_count": null,
      "outputs": [
        {
          "output_type": "stream",
          "name": "stdout",
          "text": [
            "['lisa', 1.74, 'Joao', 1.94, 'Jose', 1.65, 'Mauri', 1.86]\n",
            "['lisa', 1.74, 1.94, 'Jose', 1.65, 'Mauri', 1.86]\n"
          ]
        }
      ]
    },
    {
      "cell_type": "code",
      "source": [
        "#Y está apontando para a mesma memória no computador, logo alterar y é a mesma coisa que alterar x\n",
        "x = ['a', 'b', 'c']\n",
        "y = x\n",
        "y[1] = 'z'\n",
        "print(y)\n",
        "print(x)"
      ],
      "metadata": {
        "colab": {
          "base_uri": "https://localhost:8080/"
        },
        "id": "3-hbKGzf2xyR",
        "outputId": "0241f699-a53a-4ce2-cf19-35938607a0b8"
      },
      "execution_count": null,
      "outputs": [
        {
          "output_type": "stream",
          "name": "stdout",
          "text": [
            "['a', 'z', 'c']\n",
            "['a', 'z', 'c']\n"
          ]
        }
      ]
    },
    {
      "cell_type": "code",
      "source": [
        "#Uma maneira de resolver o problema\n",
        "x = ['a', 'b', 'c']\n",
        "y = list(x)\n",
        "y[1] = 'z'\n",
        "print(y)\n",
        "print(x)"
      ],
      "metadata": {
        "colab": {
          "base_uri": "https://localhost:8080/"
        },
        "id": "t6xg_-Xi5ep6",
        "outputId": "6ea3dd34-25ae-485f-b0b6-7bd018c95840"
      },
      "execution_count": null,
      "outputs": [
        {
          "output_type": "stream",
          "name": "stdout",
          "text": [
            "['a', 'z', 'c']\n",
            "['a', 'b', 'c']\n"
          ]
        }
      ]
    },
    {
      "cell_type": "code",
      "source": [
        "#Outra maneira\n",
        "x = ['a', 'b', 'c']\n",
        "y = x[:]\n",
        "y[1] = 'z'\n",
        "print(y)\n",
        "print(x)"
      ],
      "metadata": {
        "colab": {
          "base_uri": "https://localhost:8080/"
        },
        "id": "2ZWyvoev6MuS",
        "outputId": "8a4c6eec-728b-43e3-ceae-e9b8cb61f483"
      },
      "execution_count": null,
      "outputs": [
        {
          "output_type": "stream",
          "name": "stdout",
          "text": [
            "['a', 'z', 'c']\n",
            "['a', 'b', 'c']\n"
          ]
        }
      ]
    },
    {
      "cell_type": "code",
      "source": [
        "#Resgatando a variavel area\n",
        "areas = [\"hallway\", 11.25, \"kitchen\", 18.0, \"living room\", 20.0, \"bedroom\", 10.75, \"bathroom\", 9.50]\n",
        "\n",
        "#Corrigindo a area do banheiro\n",
        "areas[9] = 10.50\n",
        "\n",
        "#Mudando 'living room' para 'chill zone'\n",
        "areas[4] = 'chill zone'\n",
        "\n",
        "#print de areas\n",
        "print(areas)"
      ],
      "metadata": {
        "colab": {
          "base_uri": "https://localhost:8080/"
        },
        "id": "KMeapPqD6M-j",
        "outputId": "0551894a-bf25-4b68-be64-f707b8485d5e"
      },
      "execution_count": null,
      "outputs": [
        {
          "output_type": "stream",
          "name": "stdout",
          "text": [
            "['hallway', 11.25, 'kitchen', 18.0, 'chill zone', 20.0, 'bedroom', 10.75, 'bathroom', 10.5]\n"
          ]
        }
      ]
    },
    {
      "cell_type": "code",
      "source": [],
      "metadata": {
        "id": "iQW7fakN7t9r"
      },
      "execution_count": null,
      "outputs": []
    }
  ]
}