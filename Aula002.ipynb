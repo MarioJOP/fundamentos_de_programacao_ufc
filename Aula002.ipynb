{
  "nbformat": 4,
  "nbformat_minor": 0,
  "metadata": {
    "colab": {
      "provenance": [],
      "authorship_tag": "ABX9TyMfoSuQv4bJtYj6QUw3PGd5",
      "include_colab_link": true
    },
    "kernelspec": {
      "name": "python3",
      "display_name": "Python 3"
    },
    "language_info": {
      "name": "python"
    }
  },
  "cells": [
    {
      "cell_type": "markdown",
      "metadata": {
        "id": "view-in-github",
        "colab_type": "text"
      },
      "source": [
        "<a href=\"https://colab.research.google.com/github/MarioJOP/fundamentos_de_programacao_ufc/blob/main/Aula002.ipynb\" target=\"_parent\"><img src=\"https://colab.research.google.com/assets/colab-badge.svg\" alt=\"Open In Colab\"/></a>"
      ]
    },
    {
      "cell_type": "code",
      "execution_count": null,
      "metadata": {
        "colab": {
          "base_uri": "https://localhost:8080/"
        },
        "id": "JtcQ55vm7e2P",
        "outputId": "b5fe27da-d74e-468d-ce75-de58f77910eb"
      },
      "outputs": [
        {
          "output_type": "execute_result",
          "data": {
            "text/plain": [
              "[1.73, 1.68, 1.71, 1.89]"
            ]
          },
          "metadata": {},
          "execution_count": 2
        }
      ],
      "source": [
        "[1.73, 1.68, 1.71, 1.89]"
      ]
    },
    {
      "cell_type": "code",
      "source": [
        "fam = [1.73, 1.68, 1.71, 1.89]\n",
        "fam"
      ],
      "metadata": {
        "colab": {
          "base_uri": "https://localhost:8080/"
        },
        "id": "9M1rl3Lf9S5Q",
        "outputId": "86960be8-7596-41bd-a94a-c1fbef259936"
      },
      "execution_count": null,
      "outputs": [
        {
          "output_type": "execute_result",
          "data": {
            "text/plain": [
              "[1.73, 1.68, 1.71, 1.89]"
            ]
          },
          "metadata": {},
          "execution_count": 5
        }
      ]
    },
    {
      "cell_type": "code",
      "source": [
        "frutas  = ['maça', 'uva', 'pera', 'goiaba']\n",
        "frutas"
      ],
      "metadata": {
        "colab": {
          "base_uri": "https://localhost:8080/"
        },
        "id": "0etUA_GJ9jfP",
        "outputId": "3e0b4aac-d1a2-412c-b4fa-3506b955e0e8"
      },
      "execution_count": null,
      "outputs": [
        {
          "output_type": "execute_result",
          "data": {
            "text/plain": [
              "['maça', 'uva', 'pera', 'goiaba']"
            ]
          },
          "metadata": {},
          "execution_count": 6
        }
      ]
    },
    {
      "cell_type": "code",
      "source": [
        "minha_familia = ['Eu', 'Mãe', 'Pai']\n",
        "minha_familia"
      ],
      "metadata": {
        "colab": {
          "base_uri": "https://localhost:8080/"
        },
        "id": "CF9awQ7R9403",
        "outputId": "5b640e1b-7794-4e3a-84a5-201a501428e9"
      },
      "execution_count": null,
      "outputs": [
        {
          "output_type": "execute_result",
          "data": {
            "text/plain": [
              "['Eu', 'Mãe', 'Pai']"
            ]
          },
          "metadata": {},
          "execution_count": 8
        }
      ]
    },
    {
      "cell_type": "code",
      "source": [
        "fam = ['Mario', 1.00, 'Mari', 1.58, 'Jose', 1.65]\n",
        "fam"
      ],
      "metadata": {
        "colab": {
          "base_uri": "https://localhost:8080/"
        },
        "id": "k6bCUKBb-Gyn",
        "outputId": "86675780-cdf3-44ae-9b67-8d4927d6335a"
      },
      "execution_count": null,
      "outputs": [
        {
          "output_type": "execute_result",
          "data": {
            "text/plain": [
              "['Mario', 1.0, 'Mari', 1.58, 'Jose', 1.65]"
            ]
          },
          "metadata": {},
          "execution_count": 9
        }
      ]
    },
    {
      "cell_type": "code",
      "source": [
        "fam2 = [[\"eu\", 1.57],\n",
        "        [\"jose\", 1.55],\n",
        "        [\"mãe\", 1.50],\n",
        "        [\"pai\", 1.60]]\n",
        "fam2"
      ],
      "metadata": {
        "colab": {
          "base_uri": "https://localhost:8080/"
        },
        "id": "dYx7GmCG-eln",
        "outputId": "5a758353-63bb-4d99-fff8-4e2edbb78f03"
      },
      "execution_count": null,
      "outputs": [
        {
          "output_type": "execute_result",
          "data": {
            "text/plain": [
              "[['eu', 1.57], ['jose', 1.55], ['mãe', 1.5], ['pai', 1.6]]"
            ]
          },
          "metadata": {},
          "execution_count": 13
        }
      ]
    },
    {
      "cell_type": "code",
      "source": [
        "type(fam)"
      ],
      "metadata": {
        "colab": {
          "base_uri": "https://localhost:8080/"
        },
        "id": "2qX2pHkd_cuo",
        "outputId": "d0b9c30a-7e73-4652-cd6f-623c0d679c86"
      },
      "execution_count": null,
      "outputs": [
        {
          "output_type": "execute_result",
          "data": {
            "text/plain": [
              "list"
            ]
          },
          "metadata": {},
          "execution_count": 14
        }
      ]
    },
    {
      "cell_type": "code",
      "source": [
        "type(fam2)"
      ],
      "metadata": {
        "colab": {
          "base_uri": "https://localhost:8080/"
        },
        "id": "nkX0mFVi_myH",
        "outputId": "3e576213-6658-46a9-9c44-e81c0bf3edb1"
      },
      "execution_count": null,
      "outputs": [
        {
          "output_type": "execute_result",
          "data": {
            "text/plain": [
              "list"
            ]
          },
          "metadata": {},
          "execution_count": 15
        }
      ]
    },
    {
      "cell_type": "code",
      "source": [
        "#Área das partes da casa\n",
        "hall = 14.25\n",
        "kit = 18.8\n",
        "liv = 20.0\n",
        "bed = 10.75\n",
        "bath = 9.50\n",
        "\n",
        "#Criando a lista de áreas\n",
        "lista_areas = [hall, kit, liv, bed, bath]\n",
        "\n",
        "#Print da lista\n",
        "print(lista_areas)\n",
        "\n",
        "#Printando a lista completa\n",
        "lista_areas_completa = [\"hall\", hall, \"kit\", kit, \"liv\", liv, \"bed\", bed , \"bath\", bath]\n",
        "lista_areas_completa"
      ],
      "metadata": {
        "colab": {
          "base_uri": "https://localhost:8080/"
        },
        "id": "ku2GATTDAogv",
        "outputId": "c2e24f8a-053a-4c37-9774-705835897d1d"
      },
      "execution_count": null,
      "outputs": [
        {
          "output_type": "stream",
          "name": "stdout",
          "text": [
            "[14.25, 18.8, 20.0, 10.75, 9.5]\n"
          ]
        },
        {
          "output_type": "execute_result",
          "data": {
            "text/plain": [
              "['hall', 14.25, 'kit', 18.8, 'liv', 20.0, 'bed', 10.75, 'bath', 9.5]"
            ]
          },
          "metadata": {},
          "execution_count": 26
        }
      ]
    },
    {
      "cell_type": "code",
      "source": [
        "[1, 2, 3, 4]\n",
        "#Uma lista na qual seus elementos são compostos por números inteiros.\n",
        "\n",
        "[[1, 2, 3], [4, 5, 7]]\n",
        "#Uma lista na qual seus elementos são compostos por duas listas, sendo que cada elementos dentros das duas listas são compostos por números inteiros.\n",
        "\n",
        "[1+2, \"a\"*5, 3]\n",
        "#Uma lista na qual o primeiro elemento é composto por uma soma (1+2), o segundo composto pela string 'a' que se repete vezes ('a'*5) e o terceiro composto por um número inteiro (3)."
      ],
      "metadata": {
        "colab": {
          "base_uri": "https://localhost:8080/"
        },
        "id": "kpWpoxmTEsmR",
        "outputId": "d753ffac-435c-40dd-95a3-b29cb255b2d8"
      },
      "execution_count": null,
      "outputs": [
        {
          "output_type": "execute_result",
          "data": {
            "text/plain": [
              "[3, 'aaaaa', 3]"
            ]
          },
          "metadata": {},
          "execution_count": 28
        }
      ]
    },
    {
      "cell_type": "code",
      "source": [
        "#Criando a variavel house\n",
        "house = [[\"hallway\", hall],\n",
        "         [\"kitchen\", kit],\n",
        "         [\"living room\", liv],\n",
        "         [\"bedroom\", bed],\n",
        "         [\"bathroom\", bath]]\n",
        "#Print da variavel house\n",
        "print(house)\n",
        "#Tipo da variavel house\n",
        "print(type(house))"
      ],
      "metadata": {
        "colab": {
          "base_uri": "https://localhost:8080/"
        },
        "id": "fUWAGnBXGCNj",
        "outputId": "3b7567a9-3c14-4c72-c12d-29a8b2f9f4c2"
      },
      "execution_count": null,
      "outputs": [
        {
          "output_type": "stream",
          "name": "stdout",
          "text": [
            "[['hallway', 14.25], ['kitchen', 18.8], ['living room', 20.0], ['bedroom', 10.75], ['bathroom', 9.5]]\n",
            "<class 'list'>\n"
          ]
        }
      ]
    },
    {
      "cell_type": "code",
      "source": [
        "#Acessando elementos dentro da listas fam\n",
        "print(fam[0], \":\", fam[1])\n",
        "print(fam[2], \":\", fam[5])\n",
        "#Acessando elementos dentro da lista house\n",
        "print(house[2])\n",
        "print(house[-1])"
      ],
      "metadata": {
        "colab": {
          "base_uri": "https://localhost:8080/"
        },
        "id": "jYdQmOMxGrjx",
        "outputId": "00d372de-2972-432c-8b94-859764c89d06"
      },
      "execution_count": null,
      "outputs": [
        {
          "output_type": "stream",
          "name": "stdout",
          "text": [
            "Mario : 1.0\n",
            "Mari : 1.65\n",
            "['living room', 20.0]\n",
            "['bathroom', 9.5]\n"
          ]
        }
      ]
    },
    {
      "cell_type": "code",
      "source": [
        "fam"
      ],
      "metadata": {
        "colab": {
          "base_uri": "https://localhost:8080/"
        },
        "id": "le5l4ilRIQgp",
        "outputId": "47de329b-ed1e-41c6-d064-8b63e540cfc3"
      },
      "execution_count": null,
      "outputs": [
        {
          "output_type": "execute_result",
          "data": {
            "text/plain": [
              "['Mario', 1.0, 'Mari', 1.58, 'Jose', 1.65]"
            ]
          },
          "metadata": {},
          "execution_count": 48
        }
      ]
    },
    {
      "cell_type": "code",
      "source": [
        "print(fam[0:2])\n",
        "print(fam[2:4])\n",
        "print(fam[4:6])"
      ],
      "metadata": {
        "colab": {
          "base_uri": "https://localhost:8080/"
        },
        "id": "C7x3DxITKKly",
        "outputId": "1d73bfbf-caa6-4a9c-f4a9-fed0d4046765"
      },
      "execution_count": null,
      "outputs": [
        {
          "output_type": "stream",
          "name": "stdout",
          "text": [
            "['Mario', 1.0]\n",
            "['Mari', 1.58]\n",
            "['Jose', 1.65]\n"
          ]
        }
      ]
    },
    {
      "cell_type": "code",
      "source": [
        "fam[3:]"
      ],
      "metadata": {
        "colab": {
          "base_uri": "https://localhost:8080/"
        },
        "id": "d2ZFq5chKNWC",
        "outputId": "517cc630-4058-4df7-f738-3b6bf9bf03ee"
      },
      "execution_count": null,
      "outputs": [
        {
          "output_type": "execute_result",
          "data": {
            "text/plain": [
              "[1.58, 'Jose', 1.65]"
            ]
          },
          "metadata": {},
          "execution_count": 56
        }
      ]
    },
    {
      "cell_type": "code",
      "source": [
        "fam[:3]"
      ],
      "metadata": {
        "colab": {
          "base_uri": "https://localhost:8080/"
        },
        "id": "XuR-S83TLThy",
        "outputId": "58a98a50-61fc-44e4-d38a-c30f2db41e26"
      },
      "execution_count": null,
      "outputs": [
        {
          "output_type": "execute_result",
          "data": {
            "text/plain": [
              "['Mario', 1.0, 'Mari']"
            ]
          },
          "metadata": {},
          "execution_count": 57
        }
      ]
    },
    {
      "cell_type": "code",
      "source": [
        "areas = [\"hallway\", 11.25, \"kitchen\", 18.0, \"living room\", 20.0, \"bedroom\", 10.75, \"bathroom\", 9.50]\n",
        "#Print do segundo elemento\n",
        "print(areas[1])\n",
        "#Print do ultimo elemento\n",
        "print(areas[-1])\n",
        "#Print da area de living room\n",
        "print(areas[5])"
      ],
      "metadata": {
        "colab": {
          "base_uri": "https://localhost:8080/"
        },
        "id": "Z22Eq3pmLho5",
        "outputId": "2afb0854-8b89-4447-a8d2-d376ac51154c"
      },
      "execution_count": null,
      "outputs": [
        {
          "output_type": "stream",
          "name": "stdout",
          "text": [
            "11.25\n",
            "9.5\n",
            "20.0\n"
          ]
        }
      ]
    }
  ]
}